{
 "cells": [
  {
   "cell_type": "markdown",
   "id": "1a6f3a4b-35da-466e-ba81-8205e0aadfbe",
   "metadata": {},
   "source": [
    "## BASICS\n",
    "\n",
    "We will now try to build a model that is able to predict whether an enrollee is open for a job change or not. We already know that the dataset is imbalanced: only ~25% of the observations belong to the *positive* class (= open for job change). \n",
    "\n",
    "Models trained on imbalanced datasets may become biased towards the majority class since there is more information available for this class. As a result, the model may struggle to accurately classify instances from the minority class.\n",
    "\n",
    "Accuracy is a commonly used metric for evaluating classification models, but it can be misleading in imbalanced datasets. A model that predicts the majority class for every instance may achieve high accuracy, but it would not be useful in practice, especially if the goal is to correctly classify instances from the minority class.\n",
    "Therefore, my goal will not be to optimize this metric.\n",
    "\n",
    "Which metric would be more appropriate? \n",
    "Suppose this company wants to make a job offer to some of the course enrollees. However, every job offer is preceded by a closer examination of skills and also a few interviews. This process is complex and therefore expensive. The company only wants to invest this effort in enrollees who it is convinced are really willing to change their job.\n",
    "\n",
    "In such a case, precision is the evaluation metric of choice. It indicates how accurately we predict the positive class (willing to change). It may produce some false negatives, but we can be relatively confident that the positive ones are correctly predicted.\n",
    "So we try to improve the precision, but keep an eye on the other metrics.\n",
    "\n",
    "Let's do it!\n",
    "\n",
    "### Basics"
   ]
  },
  {
   "cell_type": "code",
   "execution_count": 1,
   "id": "52af6313-f081-4e38-911c-0d88b16085b6",
   "metadata": {},
   "outputs": [],
   "source": [
    "# import packages\n",
    "\n",
    "import pandas as pd\n",
    "import numpy as np\n",
    "import matplotlib as plt\n",
    "import seaborn as sns\n",
    "from imblearn.pipeline import Pipeline\n",
    "from sklearn.model_selection import train_test_split, cross_val_predict, cross_val_score, cross_validate, GridSearchCV, RandomizedSearchCV\n",
    "from sklearn.compose import ColumnTransformer\n",
    "from sklearn.preprocessing import OneHotEncoder, StandardScaler\n",
    "from sklearn.ensemble import RandomForestClassifier\n",
    "from sklearn.tree import DecisionTreeClassifier\n",
    "from sklearn.linear_model import LogisticRegression\n",
    "from sklearn.neighbors import KNeighborsClassifier\n",
    "from imblearn.over_sampling import SMOTE, ADASYN, RandomOverSampler\n",
    "from imblearn.under_sampling import RandomUnderSampler, NearMiss, TomekLinks\n",
    "from sklearn.metrics import classification_report, accuracy_score,confusion_matrix, precision_score\n",
    "from xgboost import XGBClassifier\n",
    "\n",
    "# suppress warnings\n",
    "import warnings\n",
    "warnings.filterwarnings('ignore')\n",
    "\n",
    "RSEED = 15"
   ]
  },
  {
   "cell_type": "code",
   "execution_count": 2,
   "id": "2efcde30-e6ae-4bad-93fa-45a4a84977d0",
   "metadata": {},
   "outputs": [],
   "source": [
    "# load the data\n",
    "HR = pd.read_csv('data/aug_train.csv')"
   ]
  },
  {
   "cell_type": "markdown",
   "id": "7f25e5a0-0520-4ec6-9037-c98c0f56d884",
   "metadata": {},
   "source": [
    "Based on my knowledge about the data (from the EDA) I decide to fill all NaNs in the dataset with 'MISSING'. \n",
    "\n",
    "I do this for the following reasons:\n",
    "\n",
    "In some cases, the fact that the data is missing probably has a meaning: if major_discipline is missing, it is (usually) because the enrollee did or does not study. If company_size and company_type are missing, it is (probably in many cases) because the enrollee is not currently employed. If these connections exist, the model will probably recognize them at least partially. It would be fatal to simply delete the data or to impute it without further evidence with any assumptions that go beyond the simple realization of \"MISSING\".\n",
    "\n",
    "In other cases, I have found no evidence that the fact that data is missing could mean something specific: e.g. in the case of gender. But I don't want to simply delete almost a quarter of my observations. Imputation with “MISSING” seems to me to be the most sensible solution here too."
   ]
  },
  {
   "cell_type": "code",
   "execution_count": 3,
   "id": "d6dd055a-fcb1-4965-a7f5-851c745f4aea",
   "metadata": {},
   "outputs": [],
   "source": [
    "# impute all NaNs in the dataset with 'MISSING'\n",
    "HR = HR.fillna('MISSING')"
   ]
  },
  {
   "cell_type": "markdown",
   "id": "25f470f2-7924-46e2-a78e-c0ab7988413c",
   "metadata": {},
   "source": [
    "Now I separate the features from the target variable:"
   ]
  },
  {
   "cell_type": "code",
   "execution_count": 4,
   "id": "1e42c83b-b869-4c56-9a0b-a30753611326",
   "metadata": {},
   "outputs": [],
   "source": [
    "#Separate training features from target\n",
    "X = HR.drop(['target'], axis=1)\n",
    "y = HR['target']"
   ]
  },
  {
   "cell_type": "markdown",
   "id": "da9caa29-a822-404e-a8f9-f764fddab05a",
   "metadata": {},
   "source": [
    "Now I remove the enrollee_id column since it doesn't contain useful information.\n",
    "\n",
    "*At this point, I also deleted other features that didn't seem too important in the EDA. However, none of this has improved the performance of the model. I am therefore keeping the features otherwise.*"
   ]
  },
  {
   "cell_type": "code",
   "execution_count": 5,
   "id": "0b0551f4-fdc4-43cc-9206-1dd9caf2a975",
   "metadata": {},
   "outputs": [],
   "source": [
    "# drop enrollee_id\n",
    "\n",
    "X = X.drop(['enrollee_id'], axis=1)"
   ]
  },
  {
   "cell_type": "markdown",
   "id": "58f9d098-f822-4d51-9cfa-a7b67fc1c3b7",
   "metadata": {},
   "source": [
    "### Train Test Split\n",
    "\n",
    "Now it's time for the train test split. Since we are dealing with an imbalanced dataset, stratified train test split is the way to go. (It'll ensure that the distribution of target classes in the training and testing sets remains similar to the original dataset.)"
   ]
  },
  {
   "cell_type": "code",
   "execution_count": 6,
   "id": "33392065-cf54-49be-a739-bb7247296f42",
   "metadata": {},
   "outputs": [],
   "source": [
    "# stratified train test split\n",
    "X_train, X_test, y_train, y_test = train_test_split(X, y, test_size=0.2, stratify=y, random_state=42)"
   ]
  },
  {
   "cell_type": "code",
   "execution_count": 7,
   "id": "a2c8fa2e-b657-41fa-a720-a4b413fc29d3",
   "metadata": {},
   "outputs": [
    {
     "data": {
      "text/plain": [
       "target\n",
       "0.0    75.06%\n",
       "1.0    24.94%\n",
       "Name: proportion, dtype: object"
      ]
     },
     "execution_count": 7,
     "metadata": {},
     "output_type": "execute_result"
    }
   ],
   "source": [
    "y_train.value_counts(normalize=True).mul(100).round(2).astype(str) + '%'"
   ]
  },
  {
   "cell_type": "code",
   "execution_count": 8,
   "id": "14f64e76-e56a-4457-8a16-9f1d0388457c",
   "metadata": {},
   "outputs": [
    {
     "data": {
      "text/plain": [
       "target\n",
       "0.0    75.08%\n",
       "1.0    24.92%\n",
       "Name: proportion, dtype: object"
      ]
     },
     "execution_count": 8,
     "metadata": {},
     "output_type": "execute_result"
    }
   ],
   "source": [
    "y_test.value_counts(normalize=True).mul(100).round(2).astype(str) + '%'"
   ]
  },
  {
   "cell_type": "markdown",
   "id": "99b95431-59bb-4bde-9aae-63ec8e5f724d",
   "metadata": {},
   "source": [
    "As we can see, the positive class is around 25% of the observations in both the train and the test data."
   ]
  },
  {
   "cell_type": "markdown",
   "id": "ce8c0405-3a23-434c-a7d4-31ea3c46941a",
   "metadata": {},
   "source": [
    "## Baseline Model\n",
    "\n",
    "Now we build the baseline model. It's a simple Logistic Regression. The result is our benchmark which we want to improve. We use a pipeline here."
   ]
  },
  {
   "cell_type": "code",
   "execution_count": 9,
   "id": "666e2757-f1a5-455f-8a21-2d1024b126a2",
   "metadata": {},
   "outputs": [],
   "source": [
    "# create a list of categorical features\n",
    "categorical_features = X.select_dtypes(include=['object']).columns.tolist()\n",
    "\n",
    "# create a list of numerival features\n",
    "numeric_features = X.select_dtypes(exclude=['object']).columns.tolist()\n",
    "\n",
    "# include a step to scale the numerical\n",
    "numeric_transformer = Pipeline(steps=[\n",
    "    ('scaler', StandardScaler())\n",
    "])\n",
    "\n",
    "# include a step to encode the categorical\n",
    "categorical_transformer = Pipeline(steps=[\n",
    "    ('onehot', OneHotEncoder(handle_unknown='ignore'))\n",
    "])\n",
    "\n",
    "# create a column transformer, that combines both steps\n",
    "preprocessor = ColumnTransformer(\n",
    "    transformers=[\n",
    "        ('num', numeric_transformer, numeric_features),\n",
    "        ('cat', categorical_transformer, categorical_features)\n",
    "    ])"
   ]
  },
  {
   "cell_type": "code",
   "execution_count": 10,
   "id": "faf80cfc-551d-48b2-974d-14e324d6e22e",
   "metadata": {},
   "outputs": [
    {
     "data": {
      "text/html": [
       "<style>#sk-container-id-1 {color: black;}#sk-container-id-1 pre{padding: 0;}#sk-container-id-1 div.sk-toggleable {background-color: white;}#sk-container-id-1 label.sk-toggleable__label {cursor: pointer;display: block;width: 100%;margin-bottom: 0;padding: 0.3em;box-sizing: border-box;text-align: center;}#sk-container-id-1 label.sk-toggleable__label-arrow:before {content: \"▸\";float: left;margin-right: 0.25em;color: #696969;}#sk-container-id-1 label.sk-toggleable__label-arrow:hover:before {color: black;}#sk-container-id-1 div.sk-estimator:hover label.sk-toggleable__label-arrow:before {color: black;}#sk-container-id-1 div.sk-toggleable__content {max-height: 0;max-width: 0;overflow: hidden;text-align: left;background-color: #f0f8ff;}#sk-container-id-1 div.sk-toggleable__content pre {margin: 0.2em;color: black;border-radius: 0.25em;background-color: #f0f8ff;}#sk-container-id-1 input.sk-toggleable__control:checked~div.sk-toggleable__content {max-height: 200px;max-width: 100%;overflow: auto;}#sk-container-id-1 input.sk-toggleable__control:checked~label.sk-toggleable__label-arrow:before {content: \"▾\";}#sk-container-id-1 div.sk-estimator input.sk-toggleable__control:checked~label.sk-toggleable__label {background-color: #d4ebff;}#sk-container-id-1 div.sk-label input.sk-toggleable__control:checked~label.sk-toggleable__label {background-color: #d4ebff;}#sk-container-id-1 input.sk-hidden--visually {border: 0;clip: rect(1px 1px 1px 1px);clip: rect(1px, 1px, 1px, 1px);height: 1px;margin: -1px;overflow: hidden;padding: 0;position: absolute;width: 1px;}#sk-container-id-1 div.sk-estimator {font-family: monospace;background-color: #f0f8ff;border: 1px dotted black;border-radius: 0.25em;box-sizing: border-box;margin-bottom: 0.5em;}#sk-container-id-1 div.sk-estimator:hover {background-color: #d4ebff;}#sk-container-id-1 div.sk-parallel-item::after {content: \"\";width: 100%;border-bottom: 1px solid gray;flex-grow: 1;}#sk-container-id-1 div.sk-label:hover label.sk-toggleable__label {background-color: #d4ebff;}#sk-container-id-1 div.sk-serial::before {content: \"\";position: absolute;border-left: 1px solid gray;box-sizing: border-box;top: 0;bottom: 0;left: 50%;z-index: 0;}#sk-container-id-1 div.sk-serial {display: flex;flex-direction: column;align-items: center;background-color: white;padding-right: 0.2em;padding-left: 0.2em;position: relative;}#sk-container-id-1 div.sk-item {position: relative;z-index: 1;}#sk-container-id-1 div.sk-parallel {display: flex;align-items: stretch;justify-content: center;background-color: white;position: relative;}#sk-container-id-1 div.sk-item::before, #sk-container-id-1 div.sk-parallel-item::before {content: \"\";position: absolute;border-left: 1px solid gray;box-sizing: border-box;top: 0;bottom: 0;left: 50%;z-index: -1;}#sk-container-id-1 div.sk-parallel-item {display: flex;flex-direction: column;z-index: 1;position: relative;background-color: white;}#sk-container-id-1 div.sk-parallel-item:first-child::after {align-self: flex-end;width: 50%;}#sk-container-id-1 div.sk-parallel-item:last-child::after {align-self: flex-start;width: 50%;}#sk-container-id-1 div.sk-parallel-item:only-child::after {width: 0;}#sk-container-id-1 div.sk-dashed-wrapped {border: 1px dashed gray;margin: 0 0.4em 0.5em 0.4em;box-sizing: border-box;padding-bottom: 0.4em;background-color: white;}#sk-container-id-1 div.sk-label label {font-family: monospace;font-weight: bold;display: inline-block;line-height: 1.2em;}#sk-container-id-1 div.sk-label-container {text-align: center;}#sk-container-id-1 div.sk-container {/* jupyter's `normalize.less` sets `[hidden] { display: none; }` but bootstrap.min.css set `[hidden] { display: none !important; }` so we also need the `!important` here to be able to override the default hidden behavior on the sphinx rendered scikit-learn.org. See: https://github.com/scikit-learn/scikit-learn/issues/21755 */display: inline-block !important;position: relative;}#sk-container-id-1 div.sk-text-repr-fallback {display: none;}</style><div id=\"sk-container-id-1\" class=\"sk-top-container\"><div class=\"sk-text-repr-fallback\"><pre>Pipeline(steps=[(&#x27;preprocessor&#x27;,\n",
       "                 ColumnTransformer(transformers=[(&#x27;num&#x27;,\n",
       "                                                  Pipeline(steps=[(&#x27;scaler&#x27;,\n",
       "                                                                   StandardScaler())]),\n",
       "                                                  [&#x27;city_development_index&#x27;,\n",
       "                                                   &#x27;training_hours&#x27;]),\n",
       "                                                 (&#x27;cat&#x27;,\n",
       "                                                  Pipeline(steps=[(&#x27;onehot&#x27;,\n",
       "                                                                   OneHotEncoder(handle_unknown=&#x27;ignore&#x27;))]),\n",
       "                                                  [&#x27;city&#x27;, &#x27;gender&#x27;,\n",
       "                                                   &#x27;relevent_experience&#x27;,\n",
       "                                                   &#x27;enrolled_university&#x27;,\n",
       "                                                   &#x27;education_level&#x27;,\n",
       "                                                   &#x27;major_discipline&#x27;,\n",
       "                                                   &#x27;experience&#x27;, &#x27;company_size&#x27;,\n",
       "                                                   &#x27;company_type&#x27;,\n",
       "                                                   &#x27;last_new_job&#x27;])])),\n",
       "                (&#x27;classifier&#x27;, LogisticRegression(random_state=15))])</pre><b>In a Jupyter environment, please rerun this cell to show the HTML representation or trust the notebook. <br />On GitHub, the HTML representation is unable to render, please try loading this page with nbviewer.org.</b></div><div class=\"sk-container\" hidden><div class=\"sk-item sk-dashed-wrapped\"><div class=\"sk-label-container\"><div class=\"sk-label sk-toggleable\"><input class=\"sk-toggleable__control sk-hidden--visually\" id=\"sk-estimator-id-1\" type=\"checkbox\" ><label for=\"sk-estimator-id-1\" class=\"sk-toggleable__label sk-toggleable__label-arrow\">Pipeline</label><div class=\"sk-toggleable__content\"><pre>Pipeline(steps=[(&#x27;preprocessor&#x27;,\n",
       "                 ColumnTransformer(transformers=[(&#x27;num&#x27;,\n",
       "                                                  Pipeline(steps=[(&#x27;scaler&#x27;,\n",
       "                                                                   StandardScaler())]),\n",
       "                                                  [&#x27;city_development_index&#x27;,\n",
       "                                                   &#x27;training_hours&#x27;]),\n",
       "                                                 (&#x27;cat&#x27;,\n",
       "                                                  Pipeline(steps=[(&#x27;onehot&#x27;,\n",
       "                                                                   OneHotEncoder(handle_unknown=&#x27;ignore&#x27;))]),\n",
       "                                                  [&#x27;city&#x27;, &#x27;gender&#x27;,\n",
       "                                                   &#x27;relevent_experience&#x27;,\n",
       "                                                   &#x27;enrolled_university&#x27;,\n",
       "                                                   &#x27;education_level&#x27;,\n",
       "                                                   &#x27;major_discipline&#x27;,\n",
       "                                                   &#x27;experience&#x27;, &#x27;company_size&#x27;,\n",
       "                                                   &#x27;company_type&#x27;,\n",
       "                                                   &#x27;last_new_job&#x27;])])),\n",
       "                (&#x27;classifier&#x27;, LogisticRegression(random_state=15))])</pre></div></div></div><div class=\"sk-serial\"><div class=\"sk-item sk-dashed-wrapped\"><div class=\"sk-label-container\"><div class=\"sk-label sk-toggleable\"><input class=\"sk-toggleable__control sk-hidden--visually\" id=\"sk-estimator-id-2\" type=\"checkbox\" ><label for=\"sk-estimator-id-2\" class=\"sk-toggleable__label sk-toggleable__label-arrow\">preprocessor: ColumnTransformer</label><div class=\"sk-toggleable__content\"><pre>ColumnTransformer(transformers=[(&#x27;num&#x27;,\n",
       "                                 Pipeline(steps=[(&#x27;scaler&#x27;, StandardScaler())]),\n",
       "                                 [&#x27;city_development_index&#x27;, &#x27;training_hours&#x27;]),\n",
       "                                (&#x27;cat&#x27;,\n",
       "                                 Pipeline(steps=[(&#x27;onehot&#x27;,\n",
       "                                                  OneHotEncoder(handle_unknown=&#x27;ignore&#x27;))]),\n",
       "                                 [&#x27;city&#x27;, &#x27;gender&#x27;, &#x27;relevent_experience&#x27;,\n",
       "                                  &#x27;enrolled_university&#x27;, &#x27;education_level&#x27;,\n",
       "                                  &#x27;major_discipline&#x27;, &#x27;experience&#x27;,\n",
       "                                  &#x27;company_size&#x27;, &#x27;company_type&#x27;,\n",
       "                                  &#x27;last_new_job&#x27;])])</pre></div></div></div><div class=\"sk-parallel\"><div class=\"sk-parallel-item\"><div class=\"sk-item\"><div class=\"sk-label-container\"><div class=\"sk-label sk-toggleable\"><input class=\"sk-toggleable__control sk-hidden--visually\" id=\"sk-estimator-id-3\" type=\"checkbox\" ><label for=\"sk-estimator-id-3\" class=\"sk-toggleable__label sk-toggleable__label-arrow\">num</label><div class=\"sk-toggleable__content\"><pre>[&#x27;city_development_index&#x27;, &#x27;training_hours&#x27;]</pre></div></div></div><div class=\"sk-serial\"><div class=\"sk-item\"><div class=\"sk-serial\"><div class=\"sk-item\"><div class=\"sk-estimator sk-toggleable\"><input class=\"sk-toggleable__control sk-hidden--visually\" id=\"sk-estimator-id-4\" type=\"checkbox\" ><label for=\"sk-estimator-id-4\" class=\"sk-toggleable__label sk-toggleable__label-arrow\">StandardScaler</label><div class=\"sk-toggleable__content\"><pre>StandardScaler()</pre></div></div></div></div></div></div></div></div><div class=\"sk-parallel-item\"><div class=\"sk-item\"><div class=\"sk-label-container\"><div class=\"sk-label sk-toggleable\"><input class=\"sk-toggleable__control sk-hidden--visually\" id=\"sk-estimator-id-5\" type=\"checkbox\" ><label for=\"sk-estimator-id-5\" class=\"sk-toggleable__label sk-toggleable__label-arrow\">cat</label><div class=\"sk-toggleable__content\"><pre>[&#x27;city&#x27;, &#x27;gender&#x27;, &#x27;relevent_experience&#x27;, &#x27;enrolled_university&#x27;, &#x27;education_level&#x27;, &#x27;major_discipline&#x27;, &#x27;experience&#x27;, &#x27;company_size&#x27;, &#x27;company_type&#x27;, &#x27;last_new_job&#x27;]</pre></div></div></div><div class=\"sk-serial\"><div class=\"sk-item\"><div class=\"sk-serial\"><div class=\"sk-item\"><div class=\"sk-estimator sk-toggleable\"><input class=\"sk-toggleable__control sk-hidden--visually\" id=\"sk-estimator-id-6\" type=\"checkbox\" ><label for=\"sk-estimator-id-6\" class=\"sk-toggleable__label sk-toggleable__label-arrow\">OneHotEncoder</label><div class=\"sk-toggleable__content\"><pre>OneHotEncoder(handle_unknown=&#x27;ignore&#x27;)</pre></div></div></div></div></div></div></div></div></div></div><div class=\"sk-item\"><div class=\"sk-estimator sk-toggleable\"><input class=\"sk-toggleable__control sk-hidden--visually\" id=\"sk-estimator-id-7\" type=\"checkbox\" ><label for=\"sk-estimator-id-7\" class=\"sk-toggleable__label sk-toggleable__label-arrow\">LogisticRegression</label><div class=\"sk-toggleable__content\"><pre>LogisticRegression(random_state=15)</pre></div></div></div></div></div></div></div>"
      ],
      "text/plain": [
       "Pipeline(steps=[('preprocessor',\n",
       "                 ColumnTransformer(transformers=[('num',\n",
       "                                                  Pipeline(steps=[('scaler',\n",
       "                                                                   StandardScaler())]),\n",
       "                                                  ['city_development_index',\n",
       "                                                   'training_hours']),\n",
       "                                                 ('cat',\n",
       "                                                  Pipeline(steps=[('onehot',\n",
       "                                                                   OneHotEncoder(handle_unknown='ignore'))]),\n",
       "                                                  ['city', 'gender',\n",
       "                                                   'relevent_experience',\n",
       "                                                   'enrolled_university',\n",
       "                                                   'education_level',\n",
       "                                                   'major_discipline',\n",
       "                                                   'experience', 'company_size',\n",
       "                                                   'company_type',\n",
       "                                                   'last_new_job'])])),\n",
       "                ('classifier', LogisticRegression(random_state=15))])"
      ]
     },
     "execution_count": 10,
     "metadata": {},
     "output_type": "execute_result"
    }
   ],
   "source": [
    "# define the model\n",
    "bl_model = Pipeline(steps=[\n",
    "    ('preprocessor', preprocessor),\n",
    "    ('classifier', LogisticRegression(random_state=RSEED))\n",
    "])\n",
    "\n",
    "# fit the model\n",
    "bl_model.fit(X_train, y_train)"
   ]
  },
  {
   "cell_type": "code",
   "execution_count": 11,
   "id": "304ba46b-0e87-4063-8e9f-e58ce323bda8",
   "metadata": {},
   "outputs": [],
   "source": [
    "# make predictions on the test data\n",
    "y_pred_bl = bl_model.predict(X_test)"
   ]
  },
  {
   "cell_type": "code",
   "execution_count": 12,
   "id": "8d9d7c9f-73ea-42c6-ab19-90e803338ab0",
   "metadata": {},
   "outputs": [
    {
     "name": "stdout",
     "output_type": "stream",
     "text": [
      "Accuracy: 0.78\n",
      "Precision: 0.59\n"
     ]
    }
   ],
   "source": [
    "#show results \n",
    "print(\"Accuracy:\", accuracy_score(y_test, y_pred_bl).round(2))\n",
    "print(\"Precision:\", precision_score(y_test, y_pred_bl).round(2))"
   ]
  },
  {
   "cell_type": "markdown",
   "id": "a5286524-81e6-48d1-8a06-edd81f170856",
   "metadata": {},
   "source": [
    "We are particularly interested in the precesion on target 1.0! What does a precision of 0.59 mean?\n",
    "\n",
    "It means that (in our case: only) 59% of the positive predictions are actually positive! \n",
    "\n",
    "That's not a very good result. What does it all look like exactly? Let's take a look at a confusion matrix:"
   ]
  },
  {
   "cell_type": "code",
   "execution_count": 13,
   "id": "2fd164bb-3b4a-442b-b59b-cb45b1b8deb5",
   "metadata": {},
   "outputs": [
    {
     "data": {
      "image/png": "[encoded data removed]",
      "text/plain": [
       "<Figure size 640x480 with 1 Axes>"
      ]
     },
     "metadata": {},
     "output_type": "display_data"
    }
   ],
   "source": [
    "cfm_bl = confusion_matrix(y_test, y_pred_bl)\n",
    "group_names = ['True Neg','False Pos','False Neg','True Pos']\n",
    "group_counts = ['{0:0.0f}'.format(value) for value in\n",
    "                cfm_bl.flatten()]\n",
    "group_percentages = ['{0:.2%}'.format(value) for value in\n",
    "                     cfm_bl.flatten()/np.sum(cfm_bl)]\n",
    "labels = [f'{v1}\\n{v2}\\n{v3}' for v1, v2, v3 in\n",
    "          zip(group_names,group_counts,group_percentages)]\n",
    "labels = np.asarray(labels).reshape(2,2)\n",
    "sns.heatmap(cfm_bl, annot=labels, fmt='', cmap = ['#31688e'], cbar=False, xticklabels=['Predicted Negative', 'Predicted Positive'],\n",
    "            yticklabels=['Actual Negative', 'Actual Positive'], linewidths=0.5, linecolor='white');"
   ]
  },
  {
   "cell_type": "markdown",
   "id": "1743c42c-7b99-4f80-a49a-ffca699f9158",
   "metadata": {},
   "source": [
    "So the model found a total of 619 enrollees who it believes are willing to change jobs. But that actually only applies to 366 of them. 253 of these supposedly willing to change jobs don't want to change jobs!\n",
    "On the other hand, 589 of those who want to change their job are not recognized. (These do not play a role in calculating the precision score, but of course this number should also go down as the model improves!)\n",
    "\n",
    "A first step towards improvement can be to correct the imbalance in the data set. We'll try that now."
   ]
  },
  {
   "cell_type": "markdown",
   "id": "d058d12f-1aa6-48d4-a735-70a13ff086a5",
   "metadata": {},
   "source": [
    "## Model\n",
    "\n",
    "I try different models and sampling techniques to see what's most promising.\n",
    "\n",
    "*Sampling methods work by either oversampling the minority class (increasing the number of instances from the minority class) or undersampling the majority class (reducing the number of instances from the majority class), balancing the dataset and enabling the machine learning model to learn more effectively from both classes.*"
   ]
  },
  {
   "cell_type": "code",
   "execution_count": 14,
   "id": "cd269332-c2cc-4060-9e09-63896d17c310",
   "metadata": {},
   "outputs": [],
   "source": [
    "# models I want to test\n",
    "classifiers = [\n",
    "    RandomForestClassifier(random_state=RSEED),\n",
    "    LogisticRegression(random_state=RSEED),\n",
    "    DecisionTreeClassifier(random_state=RSEED),\n",
    "    KNeighborsClassifier(),\n",
    "    XGBClassifier(random_state=RSEED)]"
   ]
  },
  {
   "cell_type": "markdown",
   "id": "8ad4636d-0af7-4fbe-aa10-8a0f6f449032",
   "metadata": {},
   "source": [
    "First I check the performance per model without any oversampling."
   ]
  },
  {
   "cell_type": "code",
   "execution_count": 15,
   "id": "b96d1cfe-46b3-43e2-b076-8f6ab0305d59",
   "metadata": {},
   "outputs": [
    {
     "name": "stdout",
     "output_type": "stream",
     "text": [
      "RandomForestClassifier WITHOUT OVERSAMPLING\n",
      "Accuracy: 0.78\n",
      "Precision: 0.57\n",
      "LogisticRegression WITHOUT OVERSAMPLING\n",
      "Accuracy: 0.78\n",
      "Precision: 0.59\n",
      "DecisionTreeClassifier WITHOUT OVERSAMPLING\n",
      "Accuracy: 0.73\n",
      "Precision: 0.46\n",
      "KNeighborsClassifier WITHOUT OVERSAMPLING\n",
      "Accuracy: 0.76\n",
      "Precision: 0.52\n",
      "XGBClassifier WITHOUT OVERSAMPLING\n",
      "Accuracy: 0.8\n",
      "Precision: 0.59\n"
     ]
    }
   ],
   "source": [
    "for classifier in classifiers:\n",
    "    pipeline = Pipeline(steps=[\n",
    "    ('preprocessor', preprocessor),\n",
    "    ('classifier', classifier)\n",
    "    ])\n",
    "    model = pipeline.fit(X_train, y_train)\n",
    "    y_pred = model.predict(X_test)\n",
    "    print(classifier.__class__.__name__, \"WITHOUT OVERSAMPLING\")\n",
    "    print(\"Accuracy:\", accuracy_score(y_test, y_pred).round(2))\n",
    "    print(\"Precision:\", precision_score(y_test, y_pred).round(2))"
   ]
  },
  {
   "cell_type": "markdown",
   "id": "b4cc1ed1-6fbc-4e23-ac86-e29d76904cc2",
   "metadata": {},
   "source": [
    "Our logistic regression from the baseline model performs best.\n",
    "\n",
    "At this point I have tried out different over/undersampling techniques with the following code:\n",
    "\n",
    "```\n",
    "sampling_methods = [\n",
    "    ('RandomUnderSampler', RandomUnderSampler(random_state=RSEED)),\n",
    "    ('TomekLinks', TomekLinks(sampling_strategy='auto')),\n",
    "    ('NearMiss', NearMiss(version=2)),\n",
    "    ('RandomOverSampler', RandomOverSampler(random_state=RSEED)),\n",
    "    ('ADASYN', ADASYN(random_state=RSEED)),\n",
    "    ('SMOTE', SMOTE(random_state=RSEED))\n",
    "]\n",
    "\n",
    "results_list = []\n",
    "\n",
    "for classifier in classifiers:\n",
    "    for method_name, sampler in sampling_methods:\n",
    "        \n",
    "        pipeline = Pipeline(steps=[\n",
    "            ('preprocessor', preprocessor),\n",
    "            (method_name, sampler),\n",
    "            ('classifier', classifier)\n",
    "        ])\n",
    "\n",
    "        \n",
    "        model = pipeline.fit(X_train, y_train)\n",
    "\n",
    "        \n",
    "        y_pred = model.predict(X_test)\n",
    "\n",
    "        \n",
    "        accuracy = accuracy_score(y_test, y_pred).round(2)\n",
    "        precision = precision_score(y_test, y_pred).round(2)\n",
    "\n",
    "        \n",
    "        results_list.append({\n",
    "            'Classifier': classifier.__class__.__name__,\n",
    "            'Sampling Method': method_name,\n",
    "            'Accuracy Score': accuracy,\n",
    "            'Precision Score': precision\n",
    "        })\n",
    "\n",
    "\n",
    "results_df = pd.DataFrame(results_list)\n",
    "results_df.to_csv('data/results.csv', index=False)\n",
    "\n",
    "```\n",
    "\n",
    "I've saved the results in a csv file and load it from there now as it takes too long to run the code block each time I restart the Kernel in this notebook.\n",
    "Now let's have a look at the perfomance metrics. I sort the results by Precision Score, highest first."
   ]
  },
  {
   "cell_type": "code",
   "execution_count": 16,
   "id": "e276af71-ab96-424b-94d5-169e276b100a",
   "metadata": {},
   "outputs": [
    {
     "data": {
      "text/html": [
       "<div>\n",
       "<style scoped>\n",
       "    .dataframe tbody tr th:only-of-type {\n",
       "        vertical-align: middle;\n",
       "    }\n",
       "\n",
       "    .dataframe tbody tr th {\n",
       "        vertical-align: top;\n",
       "    }\n",
       "\n",
       "    .dataframe thead th {\n",
       "        text-align: right;\n",
       "    }\n",
       "</style>\n",
       "<table border=\"1\" class=\"dataframe\">\n",
       "  <thead>\n",
       "    <tr style=\"text-align: right;\">\n",
       "      <th></th>\n",
       "      <th>Classifier</th>\n",
       "      <th>Sampling Method</th>\n",
       "      <th>Accuracy Score</th>\n",
       "      <th>Precision Score</th>\n",
       "    </tr>\n",
       "  </thead>\n",
       "  <tbody>\n",
       "    <tr>\n",
       "      <th>7</th>\n",
       "      <td>LogisticRegression</td>\n",
       "      <td>TomekLinks</td>\n",
       "      <td>0.80</td>\n",
       "      <td>0.61</td>\n",
       "    </tr>\n",
       "    <tr>\n",
       "      <th>29</th>\n",
       "      <td>XGBClassifier</td>\n",
       "      <td>SMOTE</td>\n",
       "      <td>0.80</td>\n",
       "      <td>0.59</td>\n",
       "    </tr>\n",
       "    <tr>\n",
       "      <th>28</th>\n",
       "      <td>XGBClassifier</td>\n",
       "      <td>ADASYN</td>\n",
       "      <td>0.80</td>\n",
       "      <td>0.59</td>\n",
       "    </tr>\n",
       "    <tr>\n",
       "      <th>25</th>\n",
       "      <td>XGBClassifier</td>\n",
       "      <td>TomekLinks</td>\n",
       "      <td>0.80</td>\n",
       "      <td>0.58</td>\n",
       "    </tr>\n",
       "    <tr>\n",
       "      <th>1</th>\n",
       "      <td>RandomForestClassifier</td>\n",
       "      <td>TomekLinks</td>\n",
       "      <td>0.78</td>\n",
       "      <td>0.57</td>\n",
       "    </tr>\n",
       "    <tr>\n",
       "      <th>3</th>\n",
       "      <td>RandomForestClassifier</td>\n",
       "      <td>RandomOverSampler</td>\n",
       "      <td>0.79</td>\n",
       "      <td>0.57</td>\n",
       "    </tr>\n",
       "    <tr>\n",
       "      <th>4</th>\n",
       "      <td>RandomForestClassifier</td>\n",
       "      <td>ADASYN</td>\n",
       "      <td>0.78</td>\n",
       "      <td>0.57</td>\n",
       "    </tr>\n",
       "    <tr>\n",
       "      <th>5</th>\n",
       "      <td>RandomForestClassifier</td>\n",
       "      <td>SMOTE</td>\n",
       "      <td>0.78</td>\n",
       "      <td>0.57</td>\n",
       "    </tr>\n",
       "    <tr>\n",
       "      <th>27</th>\n",
       "      <td>XGBClassifier</td>\n",
       "      <td>RandomOverSampler</td>\n",
       "      <td>0.79</td>\n",
       "      <td>0.55</td>\n",
       "    </tr>\n",
       "    <tr>\n",
       "      <th>11</th>\n",
       "      <td>LogisticRegression</td>\n",
       "      <td>SMOTE</td>\n",
       "      <td>0.78</td>\n",
       "      <td>0.54</td>\n",
       "    </tr>\n",
       "    <tr>\n",
       "      <th>9</th>\n",
       "      <td>LogisticRegression</td>\n",
       "      <td>RandomOverSampler</td>\n",
       "      <td>0.77</td>\n",
       "      <td>0.53</td>\n",
       "    </tr>\n",
       "    <tr>\n",
       "      <th>24</th>\n",
       "      <td>XGBClassifier</td>\n",
       "      <td>RandomUnderSampler</td>\n",
       "      <td>0.76</td>\n",
       "      <td>0.52</td>\n",
       "    </tr>\n",
       "    <tr>\n",
       "      <th>19</th>\n",
       "      <td>KNeighborsClassifier</td>\n",
       "      <td>TomekLinks</td>\n",
       "      <td>0.76</td>\n",
       "      <td>0.52</td>\n",
       "    </tr>\n",
       "    <tr>\n",
       "      <th>0</th>\n",
       "      <td>RandomForestClassifier</td>\n",
       "      <td>RandomUnderSampler</td>\n",
       "      <td>0.77</td>\n",
       "      <td>0.52</td>\n",
       "    </tr>\n",
       "    <tr>\n",
       "      <th>6</th>\n",
       "      <td>LogisticRegression</td>\n",
       "      <td>RandomUnderSampler</td>\n",
       "      <td>0.76</td>\n",
       "      <td>0.52</td>\n",
       "    </tr>\n",
       "    <tr>\n",
       "      <th>10</th>\n",
       "      <td>LogisticRegression</td>\n",
       "      <td>ADASYN</td>\n",
       "      <td>0.76</td>\n",
       "      <td>0.51</td>\n",
       "    </tr>\n",
       "    <tr>\n",
       "      <th>17</th>\n",
       "      <td>DecisionTreeClassifier</td>\n",
       "      <td>SMOTE</td>\n",
       "      <td>0.73</td>\n",
       "      <td>0.47</td>\n",
       "    </tr>\n",
       "    <tr>\n",
       "      <th>15</th>\n",
       "      <td>DecisionTreeClassifier</td>\n",
       "      <td>RandomOverSampler</td>\n",
       "      <td>0.73</td>\n",
       "      <td>0.46</td>\n",
       "    </tr>\n",
       "    <tr>\n",
       "      <th>13</th>\n",
       "      <td>DecisionTreeClassifier</td>\n",
       "      <td>TomekLinks</td>\n",
       "      <td>0.72</td>\n",
       "      <td>0.45</td>\n",
       "    </tr>\n",
       "    <tr>\n",
       "      <th>16</th>\n",
       "      <td>DecisionTreeClassifier</td>\n",
       "      <td>ADASYN</td>\n",
       "      <td>0.72</td>\n",
       "      <td>0.45</td>\n",
       "    </tr>\n",
       "    <tr>\n",
       "      <th>18</th>\n",
       "      <td>KNeighborsClassifier</td>\n",
       "      <td>RandomUnderSampler</td>\n",
       "      <td>0.71</td>\n",
       "      <td>0.45</td>\n",
       "    </tr>\n",
       "    <tr>\n",
       "      <th>21</th>\n",
       "      <td>KNeighborsClassifier</td>\n",
       "      <td>RandomOverSampler</td>\n",
       "      <td>0.69</td>\n",
       "      <td>0.43</td>\n",
       "    </tr>\n",
       "    <tr>\n",
       "      <th>12</th>\n",
       "      <td>DecisionTreeClassifier</td>\n",
       "      <td>RandomUnderSampler</td>\n",
       "      <td>0.65</td>\n",
       "      <td>0.39</td>\n",
       "    </tr>\n",
       "    <tr>\n",
       "      <th>23</th>\n",
       "      <td>KNeighborsClassifier</td>\n",
       "      <td>SMOTE</td>\n",
       "      <td>0.64</td>\n",
       "      <td>0.39</td>\n",
       "    </tr>\n",
       "    <tr>\n",
       "      <th>8</th>\n",
       "      <td>LogisticRegression</td>\n",
       "      <td>NearMiss</td>\n",
       "      <td>0.59</td>\n",
       "      <td>0.36</td>\n",
       "    </tr>\n",
       "    <tr>\n",
       "      <th>22</th>\n",
       "      <td>KNeighborsClassifier</td>\n",
       "      <td>ADASYN</td>\n",
       "      <td>0.58</td>\n",
       "      <td>0.35</td>\n",
       "    </tr>\n",
       "    <tr>\n",
       "      <th>20</th>\n",
       "      <td>KNeighborsClassifier</td>\n",
       "      <td>NearMiss</td>\n",
       "      <td>0.56</td>\n",
       "      <td>0.34</td>\n",
       "    </tr>\n",
       "    <tr>\n",
       "      <th>2</th>\n",
       "      <td>RandomForestClassifier</td>\n",
       "      <td>NearMiss</td>\n",
       "      <td>0.49</td>\n",
       "      <td>0.31</td>\n",
       "    </tr>\n",
       "    <tr>\n",
       "      <th>26</th>\n",
       "      <td>XGBClassifier</td>\n",
       "      <td>NearMiss</td>\n",
       "      <td>0.45</td>\n",
       "      <td>0.29</td>\n",
       "    </tr>\n",
       "    <tr>\n",
       "      <th>14</th>\n",
       "      <td>DecisionTreeClassifier</td>\n",
       "      <td>NearMiss</td>\n",
       "      <td>0.43</td>\n",
       "      <td>0.28</td>\n",
       "    </tr>\n",
       "  </tbody>\n",
       "</table>\n",
       "</div>"
      ],
      "text/plain": [
       "                Classifier     Sampling Method  Accuracy Score  \\\n",
       "7       LogisticRegression          TomekLinks            0.80   \n",
       "29           XGBClassifier               SMOTE            0.80   \n",
       "28           XGBClassifier              ADASYN            0.80   \n",
       "25           XGBClassifier          TomekLinks            0.80   \n",
       "1   RandomForestClassifier          TomekLinks            0.78   \n",
       "3   RandomForestClassifier   RandomOverSampler            0.79   \n",
       "4   RandomForestClassifier              ADASYN            0.78   \n",
       "5   RandomForestClassifier               SMOTE            0.78   \n",
       "27           XGBClassifier   RandomOverSampler            0.79   \n",
       "11      LogisticRegression               SMOTE            0.78   \n",
       "9       LogisticRegression   RandomOverSampler            0.77   \n",
       "24           XGBClassifier  RandomUnderSampler            0.76   \n",
       "19    KNeighborsClassifier          TomekLinks            0.76   \n",
       "0   RandomForestClassifier  RandomUnderSampler            0.77   \n",
       "6       LogisticRegression  RandomUnderSampler            0.76   \n",
       "10      LogisticRegression              ADASYN            0.76   \n",
       "17  DecisionTreeClassifier               SMOTE            0.73   \n",
       "15  DecisionTreeClassifier   RandomOverSampler            0.73   \n",
       "13  DecisionTreeClassifier          TomekLinks            0.72   \n",
       "16  DecisionTreeClassifier              ADASYN            0.72   \n",
       "18    KNeighborsClassifier  RandomUnderSampler            0.71   \n",
       "21    KNeighborsClassifier   RandomOverSampler            0.69   \n",
       "12  DecisionTreeClassifier  RandomUnderSampler            0.65   \n",
       "23    KNeighborsClassifier               SMOTE            0.64   \n",
       "8       LogisticRegression            NearMiss            0.59   \n",
       "22    KNeighborsClassifier              ADASYN            0.58   \n",
       "20    KNeighborsClassifier            NearMiss            0.56   \n",
       "2   RandomForestClassifier            NearMiss            0.49   \n",
       "26           XGBClassifier            NearMiss            0.45   \n",
       "14  DecisionTreeClassifier            NearMiss            0.43   \n",
       "\n",
       "    Precision Score  \n",
       "7              0.61  \n",
       "29             0.59  \n",
       "28             0.59  \n",
       "25             0.58  \n",
       "1              0.57  \n",
       "3              0.57  \n",
       "4              0.57  \n",
       "5              0.57  \n",
       "27             0.55  \n",
       "11             0.54  \n",
       "9              0.53  \n",
       "24             0.52  \n",
       "19             0.52  \n",
       "0              0.52  \n",
       "6              0.52  \n",
       "10             0.51  \n",
       "17             0.47  \n",
       "15             0.46  \n",
       "13             0.45  \n",
       "16             0.45  \n",
       "18             0.45  \n",
       "21             0.43  \n",
       "12             0.39  \n",
       "23             0.39  \n",
       "8              0.36  \n",
       "22             0.35  \n",
       "20             0.34  \n",
       "2              0.31  \n",
       "26             0.29  \n",
       "14             0.28  "
      ]
     },
     "execution_count": 16,
     "metadata": {},
     "output_type": "execute_result"
    }
   ],
   "source": [
    "results = pd.read_csv('data/results.csv')\n",
    "results.sort_values(by='Precision Score', ascending =False)"
   ]
  },
  {
   "cell_type": "markdown",
   "id": "6d06d718-ebf2-4356-8590-0963c0a43f3a",
   "metadata": {},
   "source": [
    "The best results we get from a Logistic Regression, that uses TomekLinks for undersampling. It has almost the same precision as our baseline model (also Logistic Regression), but a better accuracy.\n",
    "\n",
    "I was actually hoping that we could improve the performance of the model even more with sampling. I'll now try to improve the performance of the Logistic Regression and the Random Forest Classifier with hyperparameter tuning.\n",
    "\n",
    "## Logistic Regression"
   ]
  },
  {
   "cell_type": "code",
   "execution_count": 17,
   "id": "d1b6bc2c-6efc-47e8-9fc7-a49a451257a0",
   "metadata": {},
   "outputs": [],
   "source": [
    "# define the Logistic Regression\n",
    "log_reg = Pipeline(steps=[\n",
    "    ('preprocessor', preprocessor),\n",
    "    ('TomekLinks', TomekLinks(sampling_strategy='majority', n_jobs= 1)),\n",
    "    ('log_reg', LogisticRegression(random_state=RSEED))\n",
    "])"
   ]
  },
  {
   "cell_type": "code",
   "execution_count": 18,
   "id": "f5401d8d-37cb-4857-8d87-50fefdbbfe98",
   "metadata": {},
   "outputs": [
    {
     "name": "stdout",
     "output_type": "stream",
     "text": [
      "Accuracy Logistic Regression (CV): 0.79\n",
      "Precision Logistic Regression (CV): 0.59\n"
     ]
    }
   ],
   "source": [
    "# cross validation\n",
    "\n",
    "y_hat_log_reg_cv = cross_val_predict(log_reg, X_train, y_train, cv=5)\n",
    "print(\"Accuracy Logistic Regression (CV):\", accuracy_score(y_train, y_hat_log_reg_cv).round(2))\n",
    "print(\"Precision Logistic Regression (CV):\", precision_score(y_train, y_hat_log_reg_cv).round(2))"
   ]
  },
  {
   "cell_type": "code",
   "execution_count": 19,
   "id": "69eda29c-1936-414a-994a-a041e4f79ff3",
   "metadata": {},
   "outputs": [
    {
     "name": "stdout",
     "output_type": "stream",
     "text": [
      "Accuracy Logistic Regression (train data): 0.79\n",
      "Precision Logistic Regression (train data): 0.6\n",
      "Accuracy Logistic Regression (test data): 0.8\n",
      "Precision Logistic Regression (test data): 0.61\n"
     ]
    }
   ],
   "source": [
    "# fit the model\n",
    "log_reg.fit(X_train, y_train)\n",
    "\n",
    "# predict\n",
    "y_hat_log_reg_train = log_reg.predict(X_train)\n",
    "y_hat_log_reg_test = log_reg.predict(X_test)\n",
    "\n",
    "print(\"Accuracy Logistic Regression (train data):\", accuracy_score(y_train, y_hat_log_reg_train).round(2))\n",
    "print(\"Precision Logistic Regression (train data):\", precision_score(y_train, y_hat_log_reg_train).round(2))\n",
    "print(\"Accuracy Logistic Regression (test data):\", accuracy_score(y_test, y_hat_log_reg_test).round(2))\n",
    "print(\"Precision Logistic Regression (test data):\", precision_score(y_test, y_hat_log_reg_test).round(2))"
   ]
  },
  {
   "cell_type": "code",
   "execution_count": 20,
   "id": "1cef8497-f47f-4fe1-9a99-17826f3d53be",
   "metadata": {},
   "outputs": [
    {
     "data": {
      "image/png": "[encoded data removed]",
      "text/plain": [
       "<Figure size 640x480 with 1 Axes>"
      ]
     },
     "metadata": {},
     "output_type": "display_data"
    }
   ],
   "source": [
    "cfm_log_reg = confusion_matrix(y_test, y_hat_log_reg_test)\n",
    "group_names = ['True Neg','False Pos','False Neg','True Pos']\n",
    "group_counts = ['{0:0.0f}'.format(value) for value in\n",
    "                cfm_log_reg.flatten()]\n",
    "group_percentages = ['{0:.2%}'.format(value) for value in\n",
    "                     cfm_log_reg.flatten()/np.sum(cfm_log_reg)]\n",
    "labels = [f'{v1}\\n{v2}\\n{v3}' for v1, v2, v3 in\n",
    "          zip(group_names,group_counts,group_percentages)]\n",
    "labels = np.asarray(labels).reshape(2,2)\n",
    "sns.heatmap(cfm_log_reg, annot=labels, fmt='', cmap = ['#31688e'], cbar=False, xticklabels=['Predicted Negative', 'Predicted Positive'],\n",
    "            yticklabels=['Actual Negative', 'Actual Positive'], linewidths=0.5, linecolor='white');"
   ]
  },
  {
   "cell_type": "markdown",
   "id": "86a05d9a-a42c-4321-b481-018f5f41d867",
   "metadata": {},
   "source": [
    "The performance improved: 80% accuracy and 61% precision on the test data.\n",
    "We have much more True Positives , but also some more False Positives.\n",
    "\n",
    "Now I show the steps of the hyperparameter tuning that I perfomed:"
   ]
  },
  {
   "cell_type": "code",
   "execution_count": 21,
   "id": "902cc0cc-4d61-409f-bb8c-1ccfa3b32372",
   "metadata": {},
   "outputs": [],
   "source": [
    "# define a dictionay of hyperparameters that I want to test in a randomized search\n",
    "param_dist_log_reg = {\n",
    "    'TomekLinks__sampling_strategy': ['majority', 'not minority', 'not majority', 'all', 'auto'],\n",
    "    'TomekLinks__n_jobs': [1, 2, 4],\n",
    "    'log_reg__penalty': ['l1', 'l2', 'elasticnet', 'none'],\n",
    "    'log_reg__C': [0.001, 0.01, 0.1, 1, 10, 100],\n",
    "    'log_reg__fit_intercept': [True, False],\n",
    "    'log_reg__class_weight': [None, 'balanced'],\n",
    "    'log_reg__solver': ['newton-cg', 'lbfgs', 'liblinear', 'sag', 'saga'],\n",
    "    'log_reg__max_iter': [50, 100, 200, 300, 500]\n",
    "}"
   ]
  },
  {
   "cell_type": "code",
   "execution_count": 22,
   "id": "8df3afad-cdfa-4cd9-8ea8-6d3112fb612a",
   "metadata": {},
   "outputs": [],
   "source": [
    "# the next steps I comment out so they don't run each time I start the Kernel\n",
    "\n",
    "# random_search_log_reg = RandomizedSearchCV(log_reg, param_distributions=param_dist_log_reg, n_iter=10, cv=5,  scoring='precision',random_state=RSEED, refit='precision')\n",
    "# random_search_log_reg.fit(X_train, y_train)\n",
    "\n",
    "# print(\"Best Parameters: \", random_search_log_reg.best_params_)\n",
    "# print(\"Best Precision: \", random_search_log_reg.best_score_)"
   ]
  },
  {
   "cell_type": "markdown",
   "id": "706336b7-f816-4829-9ce3-ca3393860231",
   "metadata": {},
   "source": [
    "These are the best parameters that were found, but they actually haven't improved the performance of the model on the test data:\n",
    "\n",
    "```\n",
    "Best Parameters:  {'log_reg__solver': 'newton-cg', 'log_reg__penalty': 'l2', 'log_reg__max_iter': 300, 'log_reg__fit_intercept': True, 'log_reg__class_weight': None, 'log_reg__C': 100, 'TomekLinks__sampling_strategy': 'majority', 'TomekLinks__n_jobs': 1}\n",
    "Best Precision:  0.5916567862572604\n",
    "\n",
    "```\n",
    "\n",
    "```\n",
    "solver= 'newton-cg', penalty= 'l2', max_iter= 300, fit_intercept= True, class_weight= None, C= 100,\n",
    "````"
   ]
  },
  {
   "cell_type": "markdown",
   "id": "f6a948ff-49dc-4122-b6f6-5b55c78eee87",
   "metadata": {},
   "source": [
    "Let's print the most important features, according to this model:"
   ]
  },
  {
   "cell_type": "code",
   "execution_count": 23,
   "id": "27ab8da2-a22f-4ac9-bbd9-8d69e187c5d1",
   "metadata": {},
   "outputs": [
    {
     "data": {
      "text/plain": [
       "<Axes: xlabel='Feature'>"
      ]
     },
     "execution_count": 23,
     "metadata": {},
     "output_type": "execute_result"
    },
    {
     "data": {
      "image/png": "[encoded data removed]",
      "text/plain": [
       "<Figure size 1000x600 with 1 Axes>"
      ]
     },
     "metadata": {},
     "output_type": "display_data"
    }
   ],
   "source": [
    "feature_names = (log_reg.named_steps['preprocessor']\n",
    "                 .named_transformers_['cat']\n",
    "                 .get_feature_names_out(input_features=categorical_features))\n",
    "\n",
    "# Concatenate numeric and one-hot encoded feature names\n",
    "all_feature_names = np.concatenate([numeric_features, feature_names])\n",
    "\n",
    "# Extract coefficients from the logistic regression model\n",
    "absolute_coefficients = np.abs(log_reg.named_steps['log_reg'].coef_[0])\n",
    "\n",
    "# Display feature importance (absolute values)\n",
    "feature_importance = pd.DataFrame({'Feature': all_feature_names, 'Absolute Coefficient': absolute_coefficients})\n",
    "feature_importance = feature_importance.sort_values('Absolute Coefficient', ascending=False).head(20)\n",
    "feature_importance.plot(x='Feature', y='Absolute Coefficient', kind='bar', figsize=(10, 6), color='#31688e')"
   ]
  },
  {
   "cell_type": "markdown",
   "id": "5a5f1ae0-289e-46ef-af5c-c520cb74214a",
   "metadata": {},
   "source": [
    "The model finds the cities in particular very important, which I find very strange and interesting. I had assumed that the large number of cities would lead to confusion, but if I remove this feature, the model gets worse again.\n",
    "\n",
    "I try an error analysis of the False Positives:"
   ]
  },
  {
   "cell_type": "code",
   "execution_count": 24,
   "id": "5d5886b3-c2b8-441f-b75a-85b965b7e79e",
   "metadata": {},
   "outputs": [],
   "source": [
    "index = X_test.index\n",
    "yhats = pd.Series(y_hat_log_reg_test, name =\"y_hat\", index=index)\n",
    "X_test_err_an = pd.concat([X_test, y_test, yhats], axis=1)"
   ]
  },
  {
   "cell_type": "code",
   "execution_count": 25,
   "id": "6fe36f3c-4131-44a5-9fdb-584eadd8cf0f",
   "metadata": {},
   "outputs": [],
   "source": [
    "def error_analysis(row):\n",
    "    if row['target'] == 0 and row['y_hat'] == 0:\n",
    "        return \"TN\"\n",
    "    if row['target'] == 1 and row['y_hat'] == 1:\n",
    "        return \"TP\"\n",
    "    if row['target'] == 0 and row['y_hat'] == 1:\n",
    "        return \"FP\"\n",
    "    if row['target'] == 1 and row['y_hat'] == 0:\n",
    "        return \"FN\""
   ]
  },
  {
   "cell_type": "code",
   "execution_count": 26,
   "id": "d9a3d715-c648-4fb0-af59-8bb9a565a2bf",
   "metadata": {},
   "outputs": [],
   "source": [
    "X_test_err_an['error_analysis'] = X_test_err_an.apply(lambda row: error_analysis(row), axis=1)"
   ]
  },
  {
   "cell_type": "code",
   "execution_count": 27,
   "id": "56efec30-9325-42c0-9b06-83921dc38709",
   "metadata": {},
   "outputs": [],
   "source": [
    "FP = X_test_err_an.loc[(X_test_err_an.error_analysis == \"FP\")]\n",
    "TP = X_test_err_an.loc[(X_test_err_an.error_analysis == \"TP\")]\n",
    "TN = X_test_err_an.loc[(X_test_err_an.error_analysis == \"TN\")]\n",
    "FN = X_test_err_an.loc[(X_test_err_an.error_analysis == \"FN\")]"
   ]
  },
  {
   "cell_type": "code",
   "execution_count": 28,
   "id": "b1912315-22fb-4989-bcd9-07e729eedb60",
   "metadata": {},
   "outputs": [],
   "source": [
    "cat_feat_FP = FP.select_dtypes(include=['object'])"
   ]
  },
  {
   "cell_type": "code",
   "execution_count": 29,
   "id": "618804fd-89a5-4508-b8a2-5bdee7ca6d33",
   "metadata": {},
   "outputs": [
    {
     "name": "stdout",
     "output_type": "stream",
     "text": [
      "city\n",
      "city_21     61.49\n",
      "city_103     8.39\n",
      "city_11      3.73\n",
      "city_160     3.11\n",
      "city_128     2.48\n",
      "Name: proportion, dtype: float64\n",
      "\n",
      "gender\n",
      "Male       56.52\n",
      "MISSING    34.47\n",
      "Female      8.07\n",
      "Other       0.93\n",
      "Name: proportion, dtype: float64\n",
      "\n",
      "relevent_experience\n",
      "Has relevent experience    55.9\n",
      "No relevent experience     44.1\n",
      "Name: proportion, dtype: float64\n",
      "\n",
      "enrolled_university\n",
      "no_enrollment       50.31\n",
      "Full time course    42.24\n",
      "Part time course     6.21\n",
      "MISSING              1.24\n",
      "Name: proportion, dtype: float64\n",
      "\n",
      "education_level\n",
      "Graduate       74.84\n",
      "Masters        16.77\n",
      "High School     6.21\n",
      "MISSING         1.24\n",
      "Phd             0.62\n",
      "Name: proportion, dtype: float64\n",
      "\n",
      "major_discipline\n",
      "STEM          87.27\n",
      "MISSING        7.76\n",
      "Other          1.86\n",
      "Humanities     1.24\n",
      "Arts           0.93\n",
      "Name: proportion, dtype: float64\n",
      "\n",
      "experience\n",
      "3    15.53\n",
      "4    11.49\n",
      "5    10.56\n",
      "2     9.94\n",
      "6     7.76\n",
      "Name: proportion, dtype: float64\n",
      "\n",
      "company_size\n",
      "MISSING      54.66\n",
      "50-99        10.56\n",
      "100-500       7.76\n",
      "10/49         6.83\n",
      "1000-4999     5.59\n",
      "Name: proportion, dtype: float64\n",
      "\n",
      "company_type\n",
      "MISSING                53.11\n",
      "Pvt Ltd                39.13\n",
      "Early Stage Startup     4.04\n",
      "Public Sector           1.86\n",
      "Funded Startup          1.24\n",
      "Name: proportion, dtype: float64\n",
      "\n",
      "last_new_job\n",
      "1        46.27\n",
      "2        17.70\n",
      "never    16.46\n",
      ">4        7.45\n",
      "3         5.59\n",
      "Name: proportion, dtype: float64\n",
      "\n",
      "error_analysis\n",
      "FP    100.0\n",
      "Name: proportion, dtype: float64\n",
      "\n"
     ]
    }
   ],
   "source": [
    "for column in cat_feat_FP.columns:\n",
    "    frequency_table = cat_feat_FP[column].value_counts(normalize=True).mul(100).round(2)\n",
    "    print(frequency_table.head(5))\n",
    "    print()"
   ]
  },
  {
   "cell_type": "markdown",
   "id": "18e56ea9-19f5-4bb8-8ac1-dcfbd9684754",
   "metadata": {},
   "source": [
    "I can now see how the individual answers are distributed for the false positives. However, this doesn't really help me. \n",
    "I have already tried omitting some features, adding new ones (by combining existing features), etc. The model only gets worse. I don't think the data set allows for much improvement in performance because there is not THE unique pattern for prediction. We have already seen in the EDA that you can't really determine certain features that are really relevant.\n",
    "\n",
    "However, now I try another model, the...\n",
    "\n",
    "### XGBClassifier"
   ]
  },
  {
   "cell_type": "code",
   "execution_count": 30,
   "id": "282f1118-fcdc-40de-9f2d-f857dca48277",
   "metadata": {},
   "outputs": [],
   "source": [
    "# define the XGB Classifier\n",
    "xgb = Pipeline(steps=[\n",
    "    ('preprocessor', preprocessor),\n",
    "    ('SMOTE', SMOTE(sampling_strategy= 1.0, k_neighbors= 7, random_state=RSEED)),\n",
    "    ('xgb', XGBClassifier(subsample= 0.7, scale_pos_weight= 1, n_estimators= 1000, min_child_weight= 1, max_depth= 10, learning_rate= 0.01, gamma= 0.2, colsample_bytree= 0.7, random_state=RSEED))\n",
    "])"
   ]
  },
  {
   "cell_type": "code",
   "execution_count": 31,
   "id": "5e9e6bb0-f323-46d4-9dbb-29251af31c2c",
   "metadata": {},
   "outputs": [
    {
     "name": "stdout",
     "output_type": "stream",
     "text": [
      "Accuracy Logistic Regression (CV): 0.8\n",
      "Precision Logistic Regression (CV): 0.59\n"
     ]
    }
   ],
   "source": [
    "# cross validation\n",
    "\n",
    "y_hat_xgb_cv = cross_val_predict(xgb, X_train, y_train, cv=5)\n",
    "print(\"Accuracy Logistic Regression (CV):\", accuracy_score(y_train, y_hat_xgb_cv).round(2))\n",
    "print(\"Precision Logistic Regression (CV):\", precision_score(y_train, y_hat_xgb_cv).round(2))"
   ]
  },
  {
   "cell_type": "code",
   "execution_count": 32,
   "id": "801cd87e-9091-400f-af93-6acee20b1b1c",
   "metadata": {},
   "outputs": [
    {
     "name": "stdout",
     "output_type": "stream",
     "text": [
      "Accuracy XGB (train data): 0.82\n",
      "Precision XGB (train data): 0.64\n",
      "Accuracy XGB (test data): 0.8\n",
      "Precision XGB (test data): 0.59\n"
     ]
    }
   ],
   "source": [
    "# fit the model\n",
    "xgb.fit(X_train, y_train)\n",
    "\n",
    "# predict\n",
    "y_hat_xgb_train = xgb.predict(X_train)\n",
    "y_hat_xgb_test = xgb.predict(X_test)\n",
    "\n",
    "print(\"Accuracy XGB (train data):\", accuracy_score(y_train, y_hat_xgb_train).round(2))\n",
    "print(\"Precision XGB (train data):\", precision_score(y_train, y_hat_xgb_train).round(2))\n",
    "print(\"Accuracy XGB (test data):\", accuracy_score(y_test, y_hat_xgb_test).round(2))\n",
    "print(\"Precision XGB (test data):\", precision_score(y_test, y_hat_xgb_test).round(2))"
   ]
  },
  {
   "cell_type": "code",
   "execution_count": 33,
   "id": "d4511cdd-1207-4937-97f0-10a5c047e466",
   "metadata": {},
   "outputs": [
    {
     "data": {
      "image/png": "[encoded data removed]",
      "text/plain": [
       "<Figure size 640x480 with 1 Axes>"
      ]
     },
     "metadata": {},
     "output_type": "display_data"
    }
   ],
   "source": [
    "cfm_xgb = confusion_matrix(y_test, y_hat_xgb_test)\n",
    "group_names = ['True Neg','False Pos','False Neg','True Pos']\n",
    "group_counts = ['{0:0.0f}'.format(value) for value in\n",
    "                cfm_xgb.flatten()]\n",
    "group_percentages = ['{0:.2%}'.format(value) for value in\n",
    "                     cfm_xgb.flatten()/np.sum(cfm_xgb)]\n",
    "labels = [f'{v1}\\n{v2}\\n{v3}' for v1, v2, v3 in\n",
    "          zip(group_names,group_counts,group_percentages)]\n",
    "labels = np.asarray(labels).reshape(2,2)\n",
    "sns.heatmap(cfm_xgb, annot=labels, fmt='', cmap = ['#31688e'], cbar=False, xticklabels=['Predicted Negative', 'Predicted Positive'],\n",
    "            yticklabels=['Actual Negative', 'Actual Positive'], linewidths=0.5, linecolor='white');"
   ]
  },
  {
   "cell_type": "code",
   "execution_count": 34,
   "id": "ff6481ea-9fb9-46df-859e-a89ad2f007eb",
   "metadata": {},
   "outputs": [],
   "source": [
    "# define a dictionay of hyperparameters that I want to test in a randomized search\n",
    "param_dist_xgb = {\n",
    "    'SMOTE__sampling_strategy': [0.5, 0.75, 1.0],\n",
    "    'SMOTE__k_neighbors': [3, 5, 7],\n",
    "    'xgb__learning_rate': [0.01, 0.05, 0.1, 0.2, 0.3],  \n",
    "    'xgb__n_estimators': [5,25,50,100,300,500,1000,1500],  \n",
    "    'xgb__max_depth': [2,5,10,20,30],  \n",
    "    'xgb__subsample': [0.5, 0.7, 1.0],  \n",
    "    'xgb__colsample_bytree': [0.5, 0.7, 1.0],  \n",
    "    'xgb__min_child_weight': [1, 2, 3, 5],  \n",
    "    'xgb__gamma': [0, 0.1, 0.2, 0.3, 0.4],  \n",
    "    'xgb__scale_pos_weight': [1, 2, 3, 4, 5]  \n",
    "}"
   ]
  },
  {
   "cell_type": "code",
   "execution_count": 35,
   "id": "502461d6-0964-488f-a134-40eabc0489f2",
   "metadata": {},
   "outputs": [],
   "source": [
    "# the next steps I comment out so they don't run each time I start the Kernel\n",
    "\n",
    "# random_search_xgb = RandomizedSearchCV(xgb, param_distributions=param_dist_xgb, n_iter=10, cv=5,  scoring='precision',random_state=RSEED, refit='precision')\n",
    "# random_search_xgb.fit(X_train, y_train)\n",
    "\n",
    "# print(\"Best Parameters: \", random_search_xgb.best_params_)\n",
    "# print(\"Best Precision: \", random_search_xgb.best_score_)"
   ]
  },
  {
   "cell_type": "markdown",
   "id": "f45bbf67-d835-4122-a000-362f6fb9c158",
   "metadata": {},
   "source": [
    "These were the best parameters found:\n",
    "\n",
    "```\n",
    "Best Parameters:  {'xgb__subsample': 0.5, 'xgb__scale_pos_weight': 1, 'xgb__n_estimators': 500, 'xgb__min_child_weight': 1, 'xgb__max_depth': 2, 'xgb__learning_rate': 0.2, 'xgb__gamma': 0.3, 'xgb__colsample_bytree': 1.0, 'SMOTE__sampling_strategy': 1.0, 'SMOTE__k_neighbors': 7}\n",
    "Best Precision:  0.5921829648457202\n",
    "\n",
    "```\n",
    "\n",
    "```\n",
    "subsample= 0.7, scale_pos_weight= 1, n_estimators= 1000, min_child_weight= 1, max_depth= 10, learning_rate= 0.01, gamma= 0.2, colsample_bytree= 0.7\n",
    "```"
   ]
  },
  {
   "cell_type": "code",
   "execution_count": 36,
   "id": "2f0292c1-2bc8-4939-a94e-b57f37c113d1",
   "metadata": {},
   "outputs": [
    {
     "data": {
      "image/png": "[encoded data removed]",
      "text/plain": [
       "<Figure size 1000x600 with 1 Axes>"
      ]
     },
     "metadata": {},
     "output_type": "display_data"
    }
   ],
   "source": [
    "feature_importances = xgb.named_steps['xgb'].feature_importances_\n",
    "\n",
    "# Get feature names from the preprocessor\n",
    "feature_names = xgb.named_steps['preprocessor'].get_feature_names_out()\n",
    "\n",
    "# Create a DataFrame to display feature importance\n",
    "feature_importance_df = pd.DataFrame({'Feature': feature_names, 'Importance': feature_importances})\n",
    "\n",
    "# Sort the DataFrame by importance in descending order\n",
    "feature_importance_df = feature_importance_df.sort_values(by='Importance', ascending=False).head(20)\n",
    "\n",
    "feature_importance_df.plot(x='Feature', y='Importance', kind='bar', figsize=(10, 6), color='#31688e');"
   ]
  },
  {
   "cell_type": "markdown",
   "id": "0f3e05fc-f047-4654-a397-c4fbb9974766",
   "metadata": {},
   "source": [
    "This model rates the features company_size_MISSING, city_city_21 and company_type_MISSING as the most important. This is consistent with my impression that these features are important.\n",
    "Nevertheless, the model is no better than the logistic regression. I also tried to make changes to the features for this model, but it did not improve the performance here either."
   ]
  },
  {
   "cell_type": "markdown",
   "id": "cb462781-7e9d-4732-923d-96cda9439051",
   "metadata": {},
   "source": [
    "### Conclusion\n",
    "\n",
    "The improvement of the models through hyperparameter tuning is very modest - unfortunately. \n",
    "\n",
    "But also playing around with different features (removing one or some) didn't improve the performance. \n",
    "\n",
    "I looked at the work of other data scientists on Kaggle. Their models are no better, on the contrary: \n",
    "I noticed that many of the models there are sloppily created, e.g. application of SMOTE before the train test split. Of course, you can create better models this way at first glance. However, this is data leakage and these models would be completely overwhelmed with unseen data. \n",
    "\n",
    "My model is not outstanding, but it is honest and clean. Unfortunately, predictions do not work well with every data set."
   ]
  },
  {
   "cell_type": "code",
   "execution_count": null,
   "id": "52fb05dc-3346-4cc2-93a7-66caaa3d185f",
   "metadata": {},
   "outputs": [],
   "source": []
  }
 ],
 "metadata": {
  "kernelspec": {
   "display_name": "Python 3 (ipykernel)",
   "language": "python",
   "name": "python3"
  },
  "language_info": {
   "codemirror_mode": {
    "name": "ipython",
    "version": 3
   },
   "file_extension": ".py",
   "mimetype": "text/x-python",
   "name": "python",
   "nbconvert_exporter": "python",
   "pygments_lexer": "ipython3",
   "version": "3.9.8"
  }
 },
 "nbformat": 4,
 "nbformat_minor": 5
}
